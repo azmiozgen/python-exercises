{
 "cells": [
  {
   "cell_type": "markdown",
   "metadata": {},
   "source": [
    "## 3.2.1"
   ]
  },
  {
   "cell_type": "code",
   "execution_count": 1,
   "metadata": {},
   "outputs": [],
   "source": [
    "import math\n",
    "# First Order ODE (y' = f(x, y)) Solver using Euler method\n",
    "# t0: initial t value\n",
    "# y0: initial y value\n",
    "# tf: final value\n",
    "# n : number of steps (higher the better)\n",
    "# Returns yf\n",
    "def euler(f, t0, y0, tf, n):\n",
    "    h = (tf - t0) / float(n)\n",
    "    t = t0\n",
    "    y = y0\n",
    "    for i in range(n):\n",
    "        y += h * f(t, y)\n",
    "        t += h\n",
    "    return y"
   ]
  },
  {
   "cell_type": "markdown",
   "metadata": {},
   "source": [
    "## 3.2.2 i)"
   ]
  },
  {
   "cell_type": "code",
   "execution_count": 2,
   "metadata": {},
   "outputs": [
    {
     "name": "stdout",
     "output_type": "stream",
     "text": [
      "Analytic solution: 0.7182818284590451\n",
      "Numerical approximation: 0.7182804693181415\n",
      "Relative error: 1.8922111763797329e-06\n"
     ]
    }
   ],
   "source": [
    "## Question\n",
    "## y = e^t - t - 1\n",
    "def f(t, y):\n",
    "    return t + y\n",
    "\n",
    "analytic = math.exp(1) - 1 - 1\n",
    "numerical = euler(f, t0=0, y0=0, tf=1, n=1000000)\n",
    "print(\"Analytic solution:\", analytic)\n",
    "print(\"Numerical approximation:\", numerical)\n",
    "print(\"Relative error:\", abs(numerical - analytic) / analytic)"
   ]
  },
  {
   "cell_type": "markdown",
   "metadata": {},
   "source": [
    "## 3.2.2 ii)"
   ]
  },
  {
   "cell_type": "code",
   "execution_count": 8,
   "metadata": {},
   "outputs": [
    {
     "name": "stdout",
     "output_type": "stream",
     "text": [
      "Analytic solution: 0.7846694179875154\n",
      "Numerical approximation: 0.7846697692357848\n",
      "Relative error: 4.4763853580521454e-07\n"
     ]
    }
   ],
   "source": [
    "## y = sin(t)/t - cos(t)\n",
    "def f2(t, y):\n",
    "    return math.sin(t) - (y / (t + 1e-10))\n",
    "\n",
    "tf = 10\n",
    "analytic = (math.sin(tf) / tf) - math.cos(tf)\n",
    "numerical = euler(f2, t0=0, y0=0, tf=tf, n=10000000)\n",
    "print(\"Analytic solution:\", analytic)\n",
    "print(\"Numerical approximation:\", numerical)\n",
    "print(\"Relative error:\", abs(numerical - analytic) / analytic)"
   ]
  },
  {
   "cell_type": "code",
   "execution_count": 3,
   "metadata": {},
   "outputs": [
    {
     "data": {
      "text/plain": [
       "[<matplotlib.lines.Line2D at 0x7f3003a8e590>]"
      ]
     },
     "execution_count": 3,
     "metadata": {},
     "output_type": "execute_result"
    }
   ],
   "source": [
    "import matplotlib.pyplot as plt\n",
    "import numpy as np\n",
    "t = np.arange(-10, 10, 0.1)\n",
    "y = np.sin(t) / t - np.cos(t)\n",
    "\n",
    "plt.plot(t, y)"
   ]
  },
  {
   "cell_type": "markdown",
   "metadata": {},
   "source": [
    "## Adaptive Euler (unconfirmed)"
   ]
  },
  {
   "cell_type": "code",
   "execution_count": 4,
   "metadata": {},
   "outputs": [],
   "source": [
    "def adaptive_euler(f, t0, y0, tf, n, decay=0.9999, minh_rate=0.5):\n",
    "    h = (tf - t0) / float(n)\n",
    "    prev_derivative = f(t0, y0)\n",
    "    t = t0\n",
    "    y = y0\n",
    "    while t < tf:\n",
    "        derivative = f(t, y)\n",
    "        if derivative > prev_derivative and h*decay > minh_rate:\n",
    "            h *= decay\n",
    "#         else:\n",
    "#             h /= decay\n",
    "        prev_derivative = derivative\n",
    "        y += h * f(t, y)\n",
    "        t += h\n",
    "    return y"
   ]
  },
  {
   "cell_type": "code",
   "execution_count": 5,
   "metadata": {},
   "outputs": [
    {
     "name": "stdout",
     "output_type": "stream",
     "text": [
      "Analytic solution: 0.7182818284590451\n",
      "Numerical approximation: 0.7182804693181415\n",
      "Relative error: 1.8922111763797329e-06\n"
     ]
    }
   ],
   "source": [
    "analytic = math.exp(1) - 1 - 1\n",
    "numerical = adaptive_euler(f, t0=0, y0=0, tf=1, n=1000000)\n",
    "print(\"Analytic solution:\", analytic)\n",
    "print(\"Numerical approximation:\", numerical)\n",
    "print(\"Relative error:\", abs(numerical - analytic) / analytic)"
   ]
  }
 ],
 "metadata": {
  "kernelspec": {
   "display_name": "Python 3",
   "language": "python",
   "name": "python3"
  },
  "language_info": {
   "codemirror_mode": {
    "name": "ipython",
    "version": 3
   },
   "file_extension": ".py",
   "mimetype": "text/x-python",
   "name": "python",
   "nbconvert_exporter": "python",
   "pygments_lexer": "ipython3",
   "version": "3.7.4"
  }
 },
 "nbformat": 4,
 "nbformat_minor": 2
}

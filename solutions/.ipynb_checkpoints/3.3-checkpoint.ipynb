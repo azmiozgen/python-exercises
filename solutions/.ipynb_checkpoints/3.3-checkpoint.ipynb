{
 "cells": [
  {
   "cell_type": "code",
   "execution_count": 9,
   "metadata": {},
   "outputs": [],
   "source": [
    "import random\n",
    "import math"
   ]
  },
  {
   "cell_type": "code",
   "execution_count": 4,
   "metadata": {},
   "outputs": [],
   "source": [
    "compute_mean_squared_error = lambda _pi : (math.pi - _pi) ** 2"
   ]
  },
  {
   "cell_type": "markdown",
   "metadata": {},
   "source": [
    "### Direct Sampling"
   ]
  },
  {
   "cell_type": "code",
   "execution_count": 3,
   "metadata": {},
   "outputs": [],
   "source": [
    "def compute_pi_direct_sampling(n_samples):\n",
    "\n",
    "    n_hits = 0\n",
    "    for i in range(n_samples):\n",
    "        x = random.uniform(-1, 1)\n",
    "        y = random.uniform(-1, 1)\n",
    "        \n",
    "        if math.sqrt((x ** 2) + (y ** 2)) <= 1.0:\n",
    "            n_hits += 1\n",
    "    \n",
    "    computed_pi = 4.0 * n_hits / n_samples\n",
    "    \n",
    "    return computed_pi"
   ]
  },
  {
   "cell_type": "code",
   "execution_count": 12,
   "metadata": {},
   "outputs": [],
   "source": [
    "def estimate_direct_sampling(n_samples, n_iters):\n",
    "    \n",
    "    estimation = 0.0\n",
    "    for i in range(n_iters):\n",
    "        _pi = compute_pi_direct_sampling(n_samples)\n",
    "        estimation += _pi\n",
    "        \n",
    "    estimation /= n_iters\n",
    "    \n",
    "    return estimation"
   ]
  },
  {
   "cell_type": "code",
   "execution_count": 23,
   "metadata": {},
   "outputs": [
    {
     "name": "stdout",
     "output_type": "stream",
     "text": [
      "N Samples :     10 - Pi : 2.92800000 - MSE : 0.04562182\n",
      "N Samples :    100 - Pi : 3.13120000 - MSE : 0.00010801\n",
      "N Samples :   1000 - Pi : 3.14048000 - MSE : 0.00000124\n",
      "N Samples :  10000 - Pi : 3.14502400 - MSE : 0.00001177\n",
      "N Samples : 100000 - Pi : 3.14102400 - MSE : 0.00000032\n"
     ]
    }
   ],
   "source": [
    "N_ITERS = 25\n",
    "N_POW = 5\n",
    "\n",
    "for i in range(1, N_POW + 1):\n",
    "    n_samples = pow(10, i)\n",
    "    _pi = estimate_direct_sampling(n_samples, N_ITERS)\n",
    "    error = compute_mean_squared_error(_pi)\n",
    "    print('N Samples : {:6} - Pi : {:.8f} - MSE : {:.8f}'.format(n_samples, _pi, error))"
   ]
  },
  {
   "cell_type": "markdown",
   "metadata": {},
   "source": [
    "## Markov Chain Sampling"
   ]
  },
  {
   "cell_type": "code",
   "execution_count": 25,
   "metadata": {},
   "outputs": [],
   "source": [
    "def compute_pi_markov_chain_sampling(n_samples, step_size, x_init, y_init):\n",
    "    \n",
    "    n_hits = 0\n",
    "    n_rejections = 0\n",
    "    \n",
    "    x = x_init\n",
    "    y = y_init\n",
    "    \n",
    "    for i in range(n_samples):\n",
    "        delta_x = random.uniform(-step_size, step_size)\n",
    "        delta_y = random.uniform(-step_size, step_size)\n",
    "        \n",
    "        new_x = x + delta_x\n",
    "        new_y = y + delta_y\n",
    "        \n",
    "        if (abs(new_x) > 1.0) or (abs(new_y) > 1.0):\n",
    "            n_rejections += 1\n",
    "            new_x = x\n",
    "            new_y = y\n",
    "            \n",
    "        if math.sqrt((new_x ** 2) + (new_y ** 2)) <= 1.0:\n",
    "            n_hits += 1\n",
    "            \n",
    "        x = new_x\n",
    "        y = new_y\n",
    "        \n",
    "    computed_pi = 4.0 * n_hits / n_samples\n",
    "    rejection_ratio = 1.0 * n_rejections / n_samples\n",
    "    \n",
    "    return computed_pi, rejection_ratio"
   ]
  },
  {
   "cell_type": "code",
   "execution_count": 27,
   "metadata": {},
   "outputs": [],
   "source": [
    "def estimate_markov_chain_sampling(n_samples, step_size, x_init, y_init, n_iters):\n",
    "    \n",
    "    estimation = 0.0\n",
    "    rejection = 0.0\n",
    "    for i in range(n_iters):\n",
    "        _pi, rej_ratio = compute_pi_markov_chain_sampling(n_samples, step_size, x_init, y_init)\n",
    "        estimation += _pi\n",
    "        rejection += rej_ratio\n",
    "        \n",
    "    estimation /= n_iters\n",
    "    rejection /= n_iters\n",
    "    \n",
    "    return estimation, rejection"
   ]
  },
  {
   "cell_type": "markdown",
   "metadata": {},
   "source": [
    "### According to Number of Samples"
   ]
  },
  {
   "cell_type": "code",
   "execution_count": 32,
   "metadata": {},
   "outputs": [
    {
     "name": "stdout",
     "output_type": "stream",
     "text": [
      "N Samples :     10 - Pi : 2.88000000 - MSE : 0.06843072\t- REJ : 0.39600000\n",
      "N Samples :    100 - Pi : 3.01600000 - MSE : 0.01577351\t- REJ : 0.44360000\n",
      "N Samples :   1000 - Pi : 3.14560000 - MSE : 0.00001606\t- REJ : 0.43228000\n",
      "N Samples :  10000 - Pi : 3.14700800 - MSE : 0.00002933\t- REJ : 0.43624000\n",
      "N Samples : 100000 - Pi : 3.14027040 - MSE : 0.00000175\t- REJ : 0.43778720\n"
     ]
    }
   ],
   "source": [
    "N_ITERS = 25\n",
    "N_POW = 5\n",
    "STEP_SIZE = 1.0\n",
    "X_INIT = 0.0\n",
    "Y_INIT = 0.0\n",
    "\n",
    "for i in range(1, N_POW + 1):\n",
    "    n_samples = pow(10, i)\n",
    "    _pi, rejection = estimate_markov_chain_sampling(n_samples, STEP_SIZE, X_INIT, Y_INIT, N_ITERS)\n",
    "    error = compute_mean_squared_error(_pi)\n",
    "    print('N Samples : {:6} - Pi : {:.8f} - MSE : {:.8f}\\t- REJ : {:.8f}'.format(n_samples, _pi, error, rejection))"
   ]
  },
  {
   "cell_type": "markdown",
   "metadata": {},
   "source": [
    "### According to Step Size"
   ]
  },
  {
   "cell_type": "code",
   "execution_count": 34,
   "metadata": {},
   "outputs": [
    {
     "name": "stdout",
     "output_type": "stream",
     "text": [
      "Step Size : 0.5 - Pi : 3.14348000 - MSE : 0.00000356\t- REJ : 0.23406040\n",
      "Step Size : 1.0 - Pi : 3.14109600 - MSE : 0.00000025\t- REJ : 0.43714920\n",
      "Step Size : 1.5 - Pi : 3.14262720 - MSE : 0.00000107\t- REJ : 0.60935600\n",
      "Step Size : 2.0 - Pi : 3.14196160 - MSE : 0.00000014\t- REJ : 0.74987440\n",
      "Step Size : 2.5 - Pi : 3.14048320 - MSE : 0.00000123\t- REJ : 0.84016680\n",
      "Step Size : 3.0 - Pi : 3.14701280 - MSE : 0.00002938\t- REJ : 0.88917160\n",
      "Step Size : 3.5 - Pi : 3.14506720 - MSE : 0.00001207\t- REJ : 0.91827040\n",
      "Step Size : 4.0 - Pi : 3.14590080 - MSE : 0.00001856\t- REJ : 0.93748040\n",
      "Step Size : 4.5 - Pi : 3.14252160 - MSE : 0.00000086\t- REJ : 0.95083560\n",
      "Step Size : 5.0 - Pi : 3.13153920 - MSE : 0.00010107\t- REJ : 0.95991480\n",
      "Step Size : 5.5 - Pi : 3.13810880 - MSE : 0.00001214\t- REJ : 0.96686560\n",
      "Step Size : 6.0 - Pi : 3.13810400 - MSE : 0.00001217\t- REJ : 0.97229120\n",
      "Step Size : 6.5 - Pi : 3.14335840 - MSE : 0.00000312\t- REJ : 0.97644320\n",
      "Step Size : 7.0 - Pi : 3.13893120 - MSE : 0.00000708\t- REJ : 0.97959360\n",
      "Step Size : 7.5 - Pi : 3.13941120 - MSE : 0.00000476\t- REJ : 0.98240120\n",
      "Step Size : 8.0 - Pi : 3.15200000 - MSE : 0.00010831\t- REJ : 0.98424560\n",
      "Step Size : 8.5 - Pi : 3.13138560 - MSE : 0.00010418\t- REJ : 0.98610360\n",
      "Step Size : 9.0 - Pi : 3.15156480 - MSE : 0.00009944\t- REJ : 0.98760840\n",
      "Step Size : 9.5 - Pi : 3.12220960 - MSE : 0.00037570\t- REJ : 0.98874360\n"
     ]
    }
   ],
   "source": [
    "N_ITERS = 25\n",
    "N_SAMPLES = 100000\n",
    "MAX_STEP_SIZE = 10\n",
    "X_INIT = 0.0\n",
    "Y_INIT = 0.0\n",
    "\n",
    "for i in range(1, MAX_STEP_SIZE * 2):\n",
    "    step_size = i * 0.5\n",
    "    _pi, rejection = estimate_markov_chain_sampling(N_SAMPLES, step_size, X_INIT, Y_INIT, N_ITERS)\n",
    "    error = compute_mean_squared_error(_pi)\n",
    "    print('Step Size : {:.1f} - Pi : {:.8f} - MSE : {:.8f}\\t- REJ : {:.8f}'.format(step_size, _pi, error, rejection))"
   ]
  }
 ],
 "metadata": {
  "kernelspec": {
   "display_name": "Python 3",
   "language": "python",
   "name": "python3"
  },
  "language_info": {
   "codemirror_mode": {
    "name": "ipython",
    "version": 3
   },
   "file_extension": ".py",
   "mimetype": "text/x-python",
   "name": "python",
   "nbconvert_exporter": "python",
   "pygments_lexer": "ipython3",
   "version": "3.7.4"
  }
 },
 "nbformat": 4,
 "nbformat_minor": 2
}

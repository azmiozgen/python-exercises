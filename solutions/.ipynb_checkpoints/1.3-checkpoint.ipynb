{
 "cells": [
  {
   "cell_type": "code",
   "execution_count": 1,
   "metadata": {},
   "outputs": [],
   "source": [
    "def get_minutes_left(a, b):\n",
    "    assert isinstance(a, int)\n",
    "    assert isinstance(b, int)\n",
    "    assert a >= 0 and a <= 23 and b >= 0 and b <= 59\n",
    "    h = 23 - a\n",
    "    m = 60 - b\n",
    "    \n",
    "    return h * 60 + m"
   ]
  },
  {
   "cell_type": "code",
   "execution_count": 2,
   "metadata": {},
   "outputs": [
    {
     "name": "stdout",
     "output_type": "stream",
     "text": [
      "Minutes left from 23:50 : 10 minutes\n",
      "Minutes left from 21:00 : 180 minutes\n",
      "Minutes left from 06:30 : 1050 minutes\n",
      "Minutes left from 00:00 : 1440 minutes\n"
     ]
    }
   ],
   "source": [
    "print('Minutes left from 23:50 :', get_minutes_left(23, 50), 'minutes')\n",
    "print('Minutes left from 21:00 :', get_minutes_left(21, 0), 'minutes')\n",
    "print('Minutes left from 06:30 :', get_minutes_left(6, 30), 'minutes')\n",
    "print('Minutes left from 00:00 :', get_minutes_left(0, 0), 'minutes')"
   ]
  }
 ],
 "metadata": {
  "kernelspec": {
   "display_name": "base",
   "language": "python",
   "name": "base"
  },
  "language_info": {
   "codemirror_mode": {
    "name": "ipython",
    "version": 3
   },
   "file_extension": ".py",
   "mimetype": "text/x-python",
   "name": "python",
   "nbconvert_exporter": "python",
   "pygments_lexer": "ipython3",
   "version": "3.7.4"
  }
 },
 "nbformat": 4,
 "nbformat_minor": 2
}

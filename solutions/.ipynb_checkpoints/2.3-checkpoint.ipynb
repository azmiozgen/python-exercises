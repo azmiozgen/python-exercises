{
 "cells": [
  {
   "cell_type": "code",
   "execution_count": 1,
   "metadata": {},
   "outputs": [],
   "source": [
    "def gcd_div(a, b):\n",
    "    while b != 0:\n",
    "        temp = b\n",
    "        b = a % b\n",
    "        a = temp\n",
    "    return a\n",
    "\n",
    "def gcd_sub(a, b):\n",
    "    while a != b:\n",
    "        if a > b:\n",
    "            a -= b\n",
    "        else:\n",
    "            b -= a\n",
    "    return a\n",
    "\n",
    "def gcd_recurse(a, b):\n",
    "    if b == 0:\n",
    "        return a\n",
    "    else:\n",
    "        return gcd_recurse(b, a % b)"
   ]
  },
  {
   "cell_type": "code",
   "execution_count": 2,
   "metadata": {},
   "outputs": [
    {
     "name": "stdout",
     "output_type": "stream",
     "text": [
      "Division method\n",
      "13\n",
      "10\n",
      "1\n",
      "60\n",
      "1\n",
      "Subtraction method\n",
      "13\n",
      "10\n",
      "1\n",
      "60\n",
      "1\n",
      "Recursive method\n",
      "13\n",
      "10\n",
      "1\n",
      "60\n",
      "1\n"
     ]
    }
   ],
   "source": [
    "print(\"Division method\")\n",
    "print(gcd_div(13, 13))\n",
    "print(gcd_div(20, 10))\n",
    "print(gcd_div(2017, 2018))\n",
    "print(gcd_div(5040, 60))\n",
    "print(gcd_div(73, 37))\n",
    "\n",
    "print(\"Subtraction method\")\n",
    "print(gcd_sub(13, 13))\n",
    "print(gcd_sub(20, 10))\n",
    "print(gcd_sub(2017, 2018))\n",
    "print(gcd_sub(5040, 60))\n",
    "print(gcd_sub(73, 37))\n",
    "\n",
    "print(\"Recursive method\")\n",
    "print(gcd_recurse(13, 13))\n",
    "print(gcd_recurse(20, 10))\n",
    "print(gcd_recurse(2017, 2018))\n",
    "print(gcd_recurse(5040, 60))\n",
    "print(gcd_recurse(73, 37))"
   ]
  },
  {
   "cell_type": "code",
   "execution_count": 3,
   "metadata": {},
   "outputs": [
    {
     "name": "stdout",
     "output_type": "stream",
     "text": [
      "106 ns ± 1.69 ns per loop (mean ± std. dev. of 7 runs, 10000000 loops each)\n"
     ]
    }
   ],
   "source": [
    "%timeit gcd_div(5040, 60)"
   ]
  },
  {
   "cell_type": "code",
   "execution_count": 4,
   "metadata": {},
   "outputs": [
    {
     "name": "stdout",
     "output_type": "stream",
     "text": [
      "4.25 µs ± 119 ns per loop (mean ± std. dev. of 7 runs, 100000 loops each)\n"
     ]
    }
   ],
   "source": [
    "%timeit gcd_sub(5040, 60)"
   ]
  },
  {
   "cell_type": "code",
   "execution_count": 5,
   "metadata": {},
   "outputs": [
    {
     "name": "stdout",
     "output_type": "stream",
     "text": [
      "137 ns ± 2.79 ns per loop (mean ± std. dev. of 7 runs, 10000000 loops each)\n"
     ]
    }
   ],
   "source": [
    "%timeit gcd_recurse(5040, 60)"
   ]
  }
 ],
 "metadata": {
  "kernelspec": {
   "display_name": "Python 3",
   "language": "python",
   "name": "python3"
  },
  "language_info": {
   "codemirror_mode": {
    "name": "ipython",
    "version": 3
   },
   "file_extension": ".py",
   "mimetype": "text/x-python",
   "name": "python",
   "nbconvert_exporter": "python",
   "pygments_lexer": "ipython3",
   "version": "3.7.4"
  }
 },
 "nbformat": 4,
 "nbformat_minor": 2
}
